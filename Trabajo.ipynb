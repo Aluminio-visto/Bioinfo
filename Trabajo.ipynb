This is pdfTeX, Version 3.141592653-2.6-1.40.22 (MiKTeX 21.6) (preloaded format=latex 2021.6.30)  30 JUN 2021 12:20
entering extended mode
**Trabajo.ipynb
(C:\Users\jorge\Downloads\Trabajo.ipynb
LaTeX2e <2021-06-01>
L3 programming layer <2021-06-01>

! LaTeX Error: Missing \begin{document}.

See the LaTeX manual or LaTeX Companion for explanation.
Type  H <return>  for immediate help.
 ...                                              
                                                  
l.2  "
      cells": [
? H
You're in trouble here.  Try typing  <return>  to proceed.
If that doesn't work, type  X <return>  to quit.
? <return>
Type <return> to proceed, S to scroll future error messages,
R to run without stopping, Q to run quietly,
I to insert something, E to edit your file,
1 or ... or 9 to ignore the next 1 to 9 tokens of input,
H for help, X to quit.
? H
Sorry, I already gave what help I could...
Maybe you should try asking a human?
An error might have occurred before I noticed any problems.
``If all else fails, read the instructions.''

? 